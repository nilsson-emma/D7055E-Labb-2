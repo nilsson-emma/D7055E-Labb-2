{
 "cells": [
  {
   "cell_type": "markdown",
   "metadata": {},
   "source": [
    "# Assignment 2 in D7055E Data Visualization (LTU): Geospatial libraries of Python"
   ]
  },
  {
   "cell_type": "markdown",
   "metadata": {},
   "source": [
    "# 4 Part#2"
   ]
  },
  {
   "cell_type": "markdown",
   "metadata": {},
   "source": [
    "## 4.3 Visualizing Spatial Data"
   ]
  },
  {
   "cell_type": "markdown",
   "metadata": {},
   "source": [
    "**4.3.1 Create a Gaussian disc’s array with values somewhere in the range of 0 and 8 with 10 rows and 15 columns**"
   ]
  },
  {
   "cell_type": "code",
   "execution_count": 5,
   "metadata": {},
   "outputs": [
    {
     "data": {
      "text/plain": [
       "array([[0, 0, 0, 0, 0, 0, 1, 1, 1, 0, 0, 0, 0, 0, 0],\n",
       "       [0, 0, 0, 1, 1, 2, 2, 2, 2, 2, 1, 1, 0, 0, 0],\n",
       "       [0, 0, 1, 2, 2, 3, 4, 4, 4, 3, 2, 2, 1, 0, 0],\n",
       "       [0, 1, 2, 3, 4, 5, 6, 6, 6, 5, 4, 3, 2, 1, 0],\n",
       "       [1, 1, 2, 4, 5, 6, 7, 7, 7, 6, 5, 4, 2, 1, 1],\n",
       "       [1, 1, 2, 4, 5, 6, 7, 7, 7, 6, 5, 4, 2, 1, 1],\n",
       "       [0, 1, 2, 3, 4, 5, 6, 6, 6, 5, 4, 3, 2, 1, 0],\n",
       "       [0, 0, 1, 2, 2, 3, 4, 4, 4, 3, 2, 2, 1, 0, 0],\n",
       "       [0, 0, 0, 1, 1, 2, 2, 2, 2, 2, 1, 1, 0, 0, 0],\n",
       "       [0, 0, 0, 0, 0, 0, 1, 1, 1, 0, 0, 0, 0, 0, 0]], dtype=uint8)"
      ]
     },
     "metadata": {},
     "output_type": "display_data"
    }
   ],
   "source": [
    "import numpy as np\n",
    "\n",
    "rows = 10\n",
    "columns = 15\n",
    "x, y = np.meshgrid(np.linspace(-1, 1, columns), np.linspace(-1, 1, rows))\n",
    "d = np.sqrt(x**2 + y**2)\n",
    "sigma = 0.5\n",
    "myGaussianDisc = (8 * np.exp(- (d**2) / (2.0 * sigma**2))).astype('uint8')\n",
    "\n",
    "display(myGaussianDisc)"
   ]
  },
  {
   "cell_type": "markdown",
   "metadata": {},
   "source": [
    "Explanation to the array.............."
   ]
  },
  {
   "cell_type": "markdown",
   "metadata": {},
   "source": [
    "**4.3.2 Extract the value of the element at x=3 and y=5.**"
   ]
  },
  {
   "cell_type": "code",
   "execution_count": 2,
   "metadata": {},
   "outputs": [
    {
     "data": {
      "text/plain": [
       "np.uint8(5)"
      ]
     },
     "metadata": {},
     "output_type": "display_data"
    }
   ],
   "source": [
    "x = 3\n",
    "y = 5 \n",
    "display(myGaussianDisc[x,y])"
   ]
  },
  {
   "cell_type": "markdown",
   "metadata": {},
   "source": [
    "The value of the element on x=3 and y=5 is 5."
   ]
  },
  {
   "cell_type": "markdown",
   "metadata": {},
   "source": [
    "**4.3.3 Install and import matplotlib and seaborn**"
   ]
  },
  {
   "cell_type": "code",
   "execution_count": 6,
   "metadata": {},
   "outputs": [],
   "source": [
    "import seaborn as sns\n",
    "import matplotlib.pyplot as plt"
   ]
  },
  {
   "cell_type": "markdown",
   "metadata": {},
   "source": [
    "**4.3.4 Create a figure with two subplots, display the defined arrays as a grayscale image and display them as a heatmap**"
   ]
  },
  {
   "cell_type": "code",
   "execution_count": 7,
   "metadata": {},
   "outputs": [
    {
     "data": {
      "image/png": "[encoded data removed]",
      "text/plain": [
       "<Figure size 640x480 with 3 Axes>"
      ]
     },
     "metadata": {},
     "output_type": "display_data"
    }
   ],
   "source": [
    "f,axes = plt.subplots(1,2)\n",
    "(aGrayscale, aHeatmap) = axes.flatten()\n",
    "\n",
    "aGrayscale.imshow(myGaussianDisc, cmap=\"gray\")\n",
    "aGrayscale.set_axis_off()\n",
    "aGrayscale.set_title(\"Grayscale Image\")\n",
    "\n",
    "sns.heatmap(myGaussianDisc,cmap=\"viridis\",square=True,annot=True,ax=aHeatmap)\n",
    "aHeatmap.set_ylim(0,10)\n",
    "aHeatmap.invert_yaxis()\n",
    "aHeatmap.set_ylabel('X')\n",
    "aHeatmap.set_xlabel('Y')\n",
    "aHeatmap.set_title(\"Heatmap Image\")\n",
    "\n",
    "plt.show()"
   ]
  },
  {
   "cell_type": "markdown",
   "metadata": {},
   "source": [
    "Explain the visualizations....."
   ]
  },
  {
   "cell_type": "markdown",
   "metadata": {},
   "source": [
    "**4.3.5 A 3-channel Gaussian disc's array with values somewhere in the range of 0 and 8 with 10 rows and 15 columns, for color images**"
   ]
  },
  {
   "cell_type": "code",
   "execution_count": null,
   "metadata": {},
   "outputs": [
    {
     "name": "stdout",
     "output_type": "stream",
     "text": [
      "Red:\n"
     ]
    },
    {
     "data": {
      "text/plain": [
       "array([[0, 0, 0, 1, 1, 2, 2, 2, 2, 2, 1, 1, 0, 0, 0],\n",
       "       [0, 0, 0, 0, 0, 0, 1, 1, 1, 0, 0, 0, 0, 0, 0],\n",
       "       [0, 0, 0, 0, 0, 0, 1, 1, 1, 0, 0, 0, 0, 0, 0],\n",
       "       [0, 0, 0, 1, 1, 2, 2, 2, 2, 2, 1, 1, 0, 0, 0],\n",
       "       [0, 0, 1, 2, 2, 3, 4, 4, 4, 3, 2, 2, 1, 0, 0],\n",
       "       [0, 1, 2, 3, 4, 5, 6, 6, 6, 5, 4, 3, 2, 1, 0],\n",
       "       [1, 1, 2, 4, 5, 6, 7, 7, 7, 6, 5, 4, 2, 1, 1],\n",
       "       [1, 1, 2, 4, 5, 6, 7, 7, 7, 6, 5, 4, 2, 1, 1],\n",
       "       [0, 1, 2, 3, 4, 5, 6, 6, 6, 5, 4, 3, 2, 1, 0],\n",
       "       [0, 0, 1, 2, 2, 3, 4, 4, 4, 3, 2, 2, 1, 0, 0]], dtype=uint64)"
      ]
     },
     "metadata": {},
     "output_type": "display_data"
    }
   ],
   "source": [
    "# Define dimensions of the grid\n",
    "rows = 10\n",
    "columns = 15\n",
    "\n",
    "# Create a 2D coordinate grid using meshgrid\n",
    "# np.linspace(-1,1,columns) creates evenly spaced points from -1 to 1\n",
    "# The result x,y contains coordinates for each point in the grid\n",
    "x, y = np.meshgrid(np.linspace(-1,1,columns), np.linspace(-1,1,rows))\n",
    "\n",
    "# Calculate the distance from origin (0,0) for each point using Pythagorean theorem\n",
    "d = np.sqrt(x*x+y*y)\n",
    "\n",
    "# Define standard deviation for the Gaussian distribution\n",
    "sigma = 0.5\n",
    "\n",
    "# Create a 2D Gaussian disc:\n",
    "# 8* : scales the intensity values\n",
    "# np.exp(-...) : creates the Gaussian bell curve\n",
    "# (d)**2 / (2.0 * sigma**2) : determines how quickly values fall off from center\n",
    "# .astype('uint') : converts to unsigned integers\n",
    "disc = (8*np.exp(-( (d)**2 / ( 2.0 * sigma**2 ) ))).astype('uint')\n",
    "\n",
    "# Create an RGB color array by stacking three versions of the disc:\n",
    "# Original disc for red channel\n",
    "# Rolled (shifted) disc by 2 positions along axis 0 for green channel\n",
    "# Rolled disc by 2 positions along axis 1 for blue channel\n",
    "# axis=2 means we're stacking these as color channels (R,G,B)\n",
    "myRGBColorArray = np.stack((disc,np.roll(disc,2,axis=0),np.roll(disc,2,axis=1)),axis=2)\n",
    "\n",
    "# Print and display the green channel (index 1) of the RGB array\n",
    "print(\"Red:\")\n",
    "display(myRGBColorArray[:,:,1])"
   ]
  },
  {
   "cell_type": "markdown",
   "metadata": {},
   "source": [
    "Explain the output, visas inte gröna kanalen här?\n",
    "\n",
    "\n",
    "    : i första positionen betyder \"alla rader\"\n",
    "    : i andra positionen betyder \"alla kolumner\"\n",
    "    1 i tredje positionen väljer den andra färgkanalen (eftersom indexering börjar på 0)\n",
    "\n",
    "I RGB-bilden representerar:\n",
    "    [:,:,0] = röd kanal\n",
    "    [:,:,1] = grön kanal\n",
    "    [:,:,2] = blå kanal\n",
    "\n",
    "Så myRGBColorArray[:,:,1] visar hela den gröna kanalen av bilden."
   ]
  },
  {
   "cell_type": "markdown",
   "metadata": {},
   "source": [
    "**4.3.6 Presentation of a gray, gray-scaled, Viridis, Hot, diverging colormap, and HSV not perceptually uniform plot**"
   ]
  },
  {
   "cell_type": "code",
   "execution_count": 18,
   "metadata": {},
   "outputs": [
    {
     "data": {
      "image/png": "[encoded data removed]",
      "text/plain": [
       "<Figure size 750x500 with 6 Axes>"
      ]
     },
     "metadata": {},
     "output_type": "display_data"
    }
   ],
   "source": [
    "# Create 2D coordinate grid from -1 to 1\n",
    "x, y = np.meshgrid(np.linspace(-1,1,columns), np.linspace(-1,1,rows))\n",
    "\n",
    "# Calculate distance from origin for each point\n",
    "d = np.sqrt(x*x+y*y)\n",
    "\n",
    "# Define standard deviation for Gaussian distribution\n",
    "sigma = 0.5\n",
    "\n",
    "# Create 12-bit Gaussian array (values 0-4095)\n",
    "# 2**12-1 = 4095 (maximum value for 12 bits)\n",
    "# Convert to 16-bit unsigned integer type\n",
    "my12BitArray = ((2**12-1)*np.exp(-( (d)**2 / ( 2.0 * sigma**2 ) ) )).astype('uint16')\n",
    "\n",
    "# Create subplot grid with 2 rows and 3 columns with increased spacing\n",
    "f, axes = plt.subplots(2, 3, figsize=(7.5, 5))\n",
    "# Add space between subplots\n",
    "plt.subplots_adjust(wspace=0.7, hspace=0.3)\n",
    "\n",
    "(aG, aS, aV, aH, aRB, aHSV) = axes.flatten()\n",
    "\n",
    "aG.imshow(my12BitArray, cmap=\"gray\", vmin=0, vmax=(2**16)-1)\n",
    "aG.set_axis_off()\n",
    "aG.set_title(\"Gray\")\n",
    "\n",
    "aS.imshow(my12BitArray, cmap=\"gray\")\n",
    "aS.set_axis_off()\n",
    "aS.set_title(\"Gray-scaled\")\n",
    "\n",
    "aV.imshow(my12BitArray, cmap=\"viridis\")\n",
    "aV.set_axis_off()\n",
    "aV.set_title(\"Viridis\")\n",
    "\n",
    "aH.imshow(my12BitArray, cmap=\"hot\")\n",
    "aH.set_axis_off()\n",
    "aH.set_title(\"Hot-sequential-colormap\")\n",
    "\n",
    "aRB.imshow(my12BitArray, cmap=\"RdBu\")\n",
    "aRB.set_axis_off()\n",
    "aRB.set_title(\"Diverging colormap\")\n",
    "\n",
    "aHSV.imshow(my12BitArray, cmap=\"hsv\")\n",
    "aHSV.set_axis_off()\n",
    "aHSV.set_title(\"HSV (not perceptually uniform)\")\n",
    "\n",
    "plt.show()\n"
   ]
  },
  {
   "cell_type": "markdown",
   "metadata": {},
   "source": [
    "Explain........... Spacing has been added to enhance perception"
   ]
  },
  {
   "cell_type": "markdown",
   "metadata": {},
   "source": [
    "## 4.4 Visualize Brain's MRI"
   ]
  },
  {
   "cell_type": "markdown",
   "metadata": {},
   "source": [
    "## 4.5.2 Plotting and Visualizing Geospatial Data"
   ]
  },
  {
   "cell_type": "markdown",
   "metadata": {},
   "source": [
    "**4.5.2.5 Import of necessary packages**"
   ]
  },
  {
   "cell_type": "code",
   "execution_count": 29,
   "metadata": {},
   "outputs": [],
   "source": [
    "import geoplot as gplt # Geoplot: Library for high-level geospatial data visualization\n",
    "import geopandas as gpd # GeoPandas: Extends pandas to handle geometric/geographic data\n",
    "import geoplot.crs as gcrs # Geoplot color ramp schemes for geographic visualizations\n",
    "import imageio # Imageio: Library for reading and writing image data\n",
    "import pandas as pd # Pandas: Data manipulation and analysis library\n",
    "import pathlib # Pathlib: Object-oriented filesystem paths\n",
    "import matplotlib.animation as animation # Matplotlib animation: For creating animated visualizations\n",
    "import matplotlib.pyplot as plt # Matplotlib pyplot: Plotting library for creating static visualizations\n",
    "import mapclassify as mc # Mapclassify: Classification schemes for choropleth maps\n",
    "import numpy as np # NumPy: Library for numerical computing in Python\n",
    "import pycountry # Pycountry: Database of country information (names, ISO codes, etc.)\n",
    "import plotly.express as px # Plotly Express: High-level interface for creating interactive plots"
   ]
  },
  {
   "cell_type": "markdown",
   "metadata": {},
   "source": [
    "**4.5.2.6 Jupyter notebook command to be sure to run the following command to render plots properly**"
   ]
  },
  {
   "cell_type": "code",
   "execution_count": 30,
   "metadata": {},
   "outputs": [],
   "source": [
    "%matplotlib inline"
   ]
  },
  {
   "cell_type": "markdown",
   "metadata": {},
   "source": [
    "**4.5.2.7 Load a shapefile and view parts of it**"
   ]
  },
  {
   "cell_type": "code",
   "execution_count": 33,
   "metadata": {},
   "outputs": [
    {
     "name": "stdout",
     "output_type": "stream",
     "text": [
      "   OBJECTID   FIPS  FIPSNum StateFIPS  StateFIPSN   StateName  CensusReg  \\\n",
      "0         1  02000     2000        02           2      Alaska       West   \n",
      "1         9  53000    53000        53          53  Washington       West   \n",
      "2        10  23000    23000        23          23       Maine  Northeast   \n",
      "3        11  27000    27000        27          27   Minnesota    Midwest   \n",
      "4        18  26000    26000        26          26    Michigan    Midwest   \n",
      "\n",
      "            CensusDiv     XCentroid     YCentroid Notes  \\\n",
      "0             Pacific -1.882092e+06  2.310348e+06  None   \n",
      "1             Pacific -1.837353e+06  1.340481e+06  None   \n",
      "2         New England  2.068850e+06  1.172787e+06  None   \n",
      "3  West North Central  1.310476e+05  9.821300e+05  None   \n",
      "4  East North Central  8.425679e+05  8.094373e+05  None   \n",
      "\n",
      "                                            geometry  \n",
      "0  MULTIPOLYGON (((-2247528.774 2237995.012, -224...  \n",
      "1  MULTIPOLYGON (((-2124362.243 1480441.851, -212...  \n",
      "2  MULTIPOLYGON (((1951177.135 1127914.539, 19511...  \n",
      "3  POLYGON ((-91052.168 1282100.079, -30035.391 1...  \n",
      "4  MULTIPOLYGON (((764918.731 786184.882, 772386....  \n"
     ]
    }
   ],
   "source": [
    "usa = gpd.read_file(\"C:\\\\Users\\\\emmae\\\\Desktop\\\\DataVisualization_Uppgiftsmapp\\\\Labb2\\\\3.3NationalObesityByState\\\\us_state.shp\")\n",
    "print(usa.head())"
   ]
  },
  {
   "cell_type": "markdown",
   "metadata": {},
   "source": [
    "Explanation. Behöver vi snygga till presentationen?"
   ]
  },
  {
   "cell_type": "markdown",
   "metadata": {},
   "source": [
    "**4.5.2.8 Load the US Census data as a pandas DataFrame and view a portion of\n",
    "it**"
   ]
  },
  {
   "cell_type": "code",
   "execution_count": 35,
   "metadata": {},
   "outputs": [
    {
     "name": "stdout",
     "output_type": "stream",
     "text": [
      "   SUMLEV REGION DIVISION  STATE              NAME  CENSUS2010POP  \\\n",
      "0      10      0        0      0     United States      308745538   \n",
      "1      20      1        0      0  Northeast Region       55317240   \n",
      "2      20      2        0      0    Midwest Region       66927001   \n",
      "3      20      3        0      0      South Region      114555744   \n",
      "4      20      4        0      0       West Region       71945553   \n",
      "\n",
      "   ESTIMATESBASE2010  POPESTIMATE2010  POPESTIMATE2011  POPESTIMATE2012  ...  \\\n",
      "0          308758105        309326085        311580009        313874218  ...   \n",
      "1           55318430         55380645         55600532         55776729  ...   \n",
      "2           66929743         66974749         67152631         67336937  ...   \n",
      "3          114563045        114867066        116039399        117271075  ...   \n",
      "4           71946887         72103625         72787447         73489477  ...   \n",
      "\n",
      "   RDOMESTICMIG2017  RDOMESTICMIG2018  RNETMIG2011  RNETMIG2012  RNETMIG2013  \\\n",
      "0          0.000000          0.000000     2.553948     2.746049     2.701727   \n",
      "1         -5.651919         -5.222289     0.845134     0.040762    -0.397011   \n",
      "2         -2.370672         -2.301663    -1.043009    -0.896575     0.042505   \n",
      "3          2.963135          2.779373     5.379667     5.836112     5.290067   \n",
      "4          1.478565          1.350094     2.689358     3.226360     3.343874   \n",
      "\n",
      "   RNETMIG2014  RNETMIG2015  RNETMIG2016  RNETMIG2017  RNETMIG2018  \n",
      "0     2.988276     3.328598     3.321549     2.941086     3.001086  \n",
      "1    -0.923951    -2.011735    -2.430459    -1.801582    -1.127222  \n",
      "2    -0.715656    -1.357662    -1.226811    -0.519621    -0.431833  \n",
      "3     6.206402     7.328494     7.225046     6.252425     6.148925  \n",
      "4     4.148127     5.127995     5.372314     4.164981     3.965769  \n",
      "\n",
      "[5 rows x 136 columns]\n"
     ]
    }
   ],
   "source": [
    "state_pop = pd.read_csv(\"C:\\\\Users\\\\emmae\\\\Desktop\\\\DataVisualization_Uppgiftsmapp\\\\Labb2\\\\3.3GeospatialDataVisualization\\\\us_state_est_population.csv\")\n",
    "print(state_pop.head())"
   ]
  },
  {
   "cell_type": "markdown",
   "metadata": {},
   "source": [
    "Explain visualization.........."
   ]
  },
  {
   "cell_type": "markdown",
   "metadata": {},
   "source": [
    "**4.5.2.9 Merge the shapefile \"usa\" with population data \"state_pop\", joining on the state names**"
   ]
  },
  {
   "cell_type": "code",
   "execution_count": 38,
   "metadata": {},
   "outputs": [
    {
     "data": {
      "text/html": [
       "<div>\n",
       "<style scoped>\n",
       "    .dataframe tbody tr th:only-of-type {\n",
       "        vertical-align: middle;\n",
       "    }\n",
       "\n",
       "    .dataframe tbody tr th {\n",
       "        vertical-align: top;\n",
       "    }\n",
       "\n",
       "    .dataframe thead th {\n",
       "        text-align: right;\n",
       "    }\n",
       "</style>\n",
       "<table border=\"1\" class=\"dataframe\">\n",
       "  <thead>\n",
       "    <tr style=\"text-align: right;\">\n",
       "      <th></th>\n",
       "      <th>OBJECTID</th>\n",
       "      <th>FIPS</th>\n",
       "      <th>FIPSNum</th>\n",
       "      <th>StateFIPS</th>\n",
       "      <th>StateFIPSN</th>\n",
       "      <th>StateName</th>\n",
       "      <th>CensusReg</th>\n",
       "      <th>CensusDiv</th>\n",
       "      <th>XCentroid</th>\n",
       "      <th>YCentroid</th>\n",
       "      <th>...</th>\n",
       "      <th>RDOMESTICMIG2017</th>\n",
       "      <th>RDOMESTICMIG2018</th>\n",
       "      <th>RNETMIG2011</th>\n",
       "      <th>RNETMIG2012</th>\n",
       "      <th>RNETMIG2013</th>\n",
       "      <th>RNETMIG2014</th>\n",
       "      <th>RNETMIG2015</th>\n",
       "      <th>RNETMIG2016</th>\n",
       "      <th>RNETMIG2017</th>\n",
       "      <th>RNETMIG2018</th>\n",
       "    </tr>\n",
       "  </thead>\n",
       "  <tbody>\n",
       "    <tr>\n",
       "      <th>0</th>\n",
       "      <td>1</td>\n",
       "      <td>02000</td>\n",
       "      <td>2000</td>\n",
       "      <td>02</td>\n",
       "      <td>2</td>\n",
       "      <td>Alaska</td>\n",
       "      <td>West</td>\n",
       "      <td>Pacific</td>\n",
       "      <td>-1.882092e+06</td>\n",
       "      <td>2.310348e+06</td>\n",
       "      <td>...</td>\n",
       "      <td>-14.508975</td>\n",
       "      <td>-14.557034</td>\n",
       "      <td>0.474949</td>\n",
       "      <td>1.496795</td>\n",
       "      <td>-0.903612</td>\n",
       "      <td>-11.375421</td>\n",
       "      <td>-7.968225</td>\n",
       "      <td>-3.911968</td>\n",
       "      <td>-11.005272</td>\n",
       "      <td>-11.306342</td>\n",
       "    </tr>\n",
       "    <tr>\n",
       "      <th>1</th>\n",
       "      <td>9</td>\n",
       "      <td>53000</td>\n",
       "      <td>53000</td>\n",
       "      <td>53</td>\n",
       "      <td>53</td>\n",
       "      <td>Washington</td>\n",
       "      <td>West</td>\n",
       "      <td>Pacific</td>\n",
       "      <td>-1.837353e+06</td>\n",
       "      <td>1.340481e+06</td>\n",
       "      <td>...</td>\n",
       "      <td>8.785531</td>\n",
       "      <td>6.222703</td>\n",
       "      <td>6.178750</td>\n",
       "      <td>4.988577</td>\n",
       "      <td>4.920545</td>\n",
       "      <td>7.646476</td>\n",
       "      <td>10.698382</td>\n",
       "      <td>13.260274</td>\n",
       "      <td>13.025173</td>\n",
       "      <td>10.307584</td>\n",
       "    </tr>\n",
       "    <tr>\n",
       "      <th>2</th>\n",
       "      <td>10</td>\n",
       "      <td>23000</td>\n",
       "      <td>23000</td>\n",
       "      <td>23</td>\n",
       "      <td>23</td>\n",
       "      <td>Maine</td>\n",
       "      <td>Northeast</td>\n",
       "      <td>New England</td>\n",
       "      <td>2.068850e+06</td>\n",
       "      <td>1.172787e+06</td>\n",
       "      <td>...</td>\n",
       "      <td>3.517808</td>\n",
       "      <td>3.343224</td>\n",
       "      <td>0.774160</td>\n",
       "      <td>-0.262817</td>\n",
       "      <td>0.872778</td>\n",
       "      <td>2.531821</td>\n",
       "      <td>-0.488109</td>\n",
       "      <td>3.352064</td>\n",
       "      <td>3.952096</td>\n",
       "      <td>3.769637</td>\n",
       "    </tr>\n",
       "    <tr>\n",
       "      <th>3</th>\n",
       "      <td>11</td>\n",
       "      <td>27000</td>\n",
       "      <td>27000</td>\n",
       "      <td>27</td>\n",
       "      <td>27</td>\n",
       "      <td>Minnesota</td>\n",
       "      <td>Midwest</td>\n",
       "      <td>West North Central</td>\n",
       "      <td>1.310476e+05</td>\n",
       "      <td>9.821300e+05</td>\n",
       "      <td>...</td>\n",
       "      <td>1.370050</td>\n",
       "      <td>1.210984</td>\n",
       "      <td>1.244122</td>\n",
       "      <td>0.452332</td>\n",
       "      <td>1.825538</td>\n",
       "      <td>1.725691</td>\n",
       "      <td>0.855495</td>\n",
       "      <td>2.536818</td>\n",
       "      <td>3.311345</td>\n",
       "      <td>3.128451</td>\n",
       "    </tr>\n",
       "    <tr>\n",
       "      <th>4</th>\n",
       "      <td>18</td>\n",
       "      <td>26000</td>\n",
       "      <td>26000</td>\n",
       "      <td>26</td>\n",
       "      <td>26</td>\n",
       "      <td>Michigan</td>\n",
       "      <td>Midwest</td>\n",
       "      <td>East North Central</td>\n",
       "      <td>8.425679e+05</td>\n",
       "      <td>8.094373e+05</td>\n",
       "      <td>...</td>\n",
       "      <td>-1.306782</td>\n",
       "      <td>-1.678920</td>\n",
       "      <td>-2.061435</td>\n",
       "      <td>-0.849915</td>\n",
       "      <td>-0.452896</td>\n",
       "      <td>-0.497986</td>\n",
       "      <td>-1.506507</td>\n",
       "      <td>0.103498</td>\n",
       "      <td>0.842519</td>\n",
       "      <td>0.465543</td>\n",
       "    </tr>\n",
       "  </tbody>\n",
       "</table>\n",
       "<p>5 rows × 148 columns</p>\n",
       "</div>"
      ],
      "text/plain": [
       "   OBJECTID   FIPS  FIPSNum StateFIPS  StateFIPSN   StateName  CensusReg  \\\n",
       "0         1  02000     2000        02           2      Alaska       West   \n",
       "1         9  53000    53000        53          53  Washington       West   \n",
       "2        10  23000    23000        23          23       Maine  Northeast   \n",
       "3        11  27000    27000        27          27   Minnesota    Midwest   \n",
       "4        18  26000    26000        26          26    Michigan    Midwest   \n",
       "\n",
       "            CensusDiv     XCentroid     YCentroid  ... RDOMESTICMIG2017  \\\n",
       "0             Pacific -1.882092e+06  2.310348e+06  ...       -14.508975   \n",
       "1             Pacific -1.837353e+06  1.340481e+06  ...         8.785531   \n",
       "2         New England  2.068850e+06  1.172787e+06  ...         3.517808   \n",
       "3  West North Central  1.310476e+05  9.821300e+05  ...         1.370050   \n",
       "4  East North Central  8.425679e+05  8.094373e+05  ...        -1.306782   \n",
       "\n",
       "  RDOMESTICMIG2018  RNETMIG2011 RNETMIG2012 RNETMIG2013  RNETMIG2014  \\\n",
       "0       -14.557034     0.474949    1.496795   -0.903612   -11.375421   \n",
       "1         6.222703     6.178750    4.988577    4.920545     7.646476   \n",
       "2         3.343224     0.774160   -0.262817    0.872778     2.531821   \n",
       "3         1.210984     1.244122    0.452332    1.825538     1.725691   \n",
       "4        -1.678920    -2.061435   -0.849915   -0.452896    -0.497986   \n",
       "\n",
       "  RNETMIG2015  RNETMIG2016  RNETMIG2017  RNETMIG2018  \n",
       "0   -7.968225    -3.911968   -11.005272   -11.306342  \n",
       "1   10.698382    13.260274    13.025173    10.307584  \n",
       "2   -0.488109     3.352064     3.952096     3.769637  \n",
       "3    0.855495     2.536818     3.311345     3.128451  \n",
       "4   -1.506507     0.103498     0.842519     0.465543  \n",
       "\n",
       "[5 rows x 148 columns]"
      ]
     },
     "execution_count": 38,
     "metadata": {},
     "output_type": "execute_result"
    }
   ],
   "source": [
    "pop_states = usa.merge(state_pop, left_on=\"StateName\", right_on=\"NAME\")\n",
    "pop_states.head()"
   ]
  },
  {
   "cell_type": "markdown",
   "metadata": {},
   "source": [
    "Explain, den parar ihop statename och rätt RegionName"
   ]
  },
  {
   "cell_type": "markdown",
   "metadata": {},
   "source": [
    "**4.5.2.10 Plot a shape for California**"
   ]
  },
  {
   "cell_type": "code",
   "execution_count": null,
   "metadata": {},
   "outputs": [],
   "source": []
  },
  {
   "cell_type": "markdown",
   "metadata": {},
   "source": [
    "## 4.6 Covid-19 Visualization"
   ]
  },
  {
   "cell_type": "markdown",
   "metadata": {},
   "source": []
  },
  {
   "cell_type": "markdown",
   "metadata": {},
   "source": [
    "# 5 Part#3: Challenging Questions"
   ]
  }
 ],
 "metadata": {
  "kernelspec": {
   "display_name": ".venv",
   "language": "python",
   "name": "python3"
  },
  "language_info": {
   "codemirror_mode": {
    "name": "ipython",
    "version": 3
   },
   "file_extension": ".py",
   "mimetype": "text/x-python",
   "name": "python",
   "nbconvert_exporter": "python",
   "pygments_lexer": "ipython3",
   "version": "3.12.3"
  }
 },
 "nbformat": 4,
 "nbformat_minor": 2
}
